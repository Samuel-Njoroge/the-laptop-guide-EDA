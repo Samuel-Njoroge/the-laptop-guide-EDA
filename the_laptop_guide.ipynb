{
  "nbformat": 4,
  "nbformat_minor": 0,
  "metadata": {
    "colab": {
      "provenance": [],
      "mount_file_id": "1upNOxSx0poFQzJC3HgWnKjZzzus090zr",
      "authorship_tag": "ABX9TyNk6Vhedp/vJpUNCxyBKQ2n"
    },
    "kernelspec": {
      "name": "python3",
      "display_name": "Python 3"
    },
    "language_info": {
      "name": "python"
    }
  },
  "cells": [
    {
      "cell_type": "markdown",
      "source": [
        "#**THE LAPTOP GUIDE.**\n",
        "\n",
        "\n",
        "---\n",
        "<img src=\"https://thumbs.dreamstime.com/b/man-thinking-computer-programing-215736001.jpg\" width=\"425\"/> <img src=\"https://thumbs.dreamstime.com/b/woman-thinking-laptop-computer-229104644.jpg\" width=\"425\"/> \n",
        "---\n",
        "##*Background*\n",
        "In this digital era, people use computer machines in many sectors such as work, schools and entertainment. A laptop has become an essential equipment in office and home due to its portability and efficiency in performing tasks such as writing, researching and programming.\n",
        "Manufacturing companies have provided different types of laptops with different specification and features. Choosing the best laptop is not an easy task especially for people with little knowledge about computer systems and may require guidance on the best choice suited for their needs.\n",
        "\n",
        "---\n",
        "##*The Dataset*\n",
        "The dataset contains information on 1000 laptops from Flipkart, one of India's largest e-commerce websites.It includes\n",
        "technical specifications - Processor type, RAM capacity, Hard drive capacity\n",
        "customer reviews and ratings\n",
        "prices. \n",
        "\n",
        "\n",
        "Dowload the dataset here : https://www.kaggle.com/datasets/rajugc/laptop-selection-dataset"
      ],
      "metadata": {
        "id": "Bh3Vw3PWMCZa"
      }
    },
    {
      "cell_type": "markdown",
      "source": [
        "# **1. Data Preprocessing.**"
      ],
      "metadata": {
        "id": "2qbY5ph8UITi"
      }
    },
    {
      "cell_type": "code",
      "source": [
        "# Importing the required libraries.\n",
        "import matplotlib.pyplot  as plt\n",
        "import seaborn as sns\n",
        "import pandas as pd\n",
        "import numpy as np "
      ],
      "metadata": {
        "id": "DjxZkDcJUHKo"
      },
      "execution_count": 4,
      "outputs": []
    },
    {
      "cell_type": "code",
      "source": [
        "# Loading the  data.\n",
        "laptops_df = pd.read_csv('/content/drive/MyDrive/laptops.csv')"
      ],
      "metadata": {
        "id": "Px_KVacmUNVt"
      },
      "execution_count": 9,
      "outputs": []
    },
    {
      "cell_type": "code",
      "source": [
        "# First 5 rows of the data.\n",
        "laptops_df.head()"
      ],
      "metadata": {
        "id": "74NccHZ-UNmX",
        "colab": {
          "base_uri": "https://localhost:8080/",
          "height": 635
        },
        "outputId": "653a9eef-9aa3-4cf1-9c1a-3c44d489ebdb"
      },
      "execution_count": 10,
      "outputs": [
        {
          "output_type": "execute_result",
          "data": {
            "text/plain": [
              "   Unnamed: 0                                           img_link  \\\n",
              "0           0  https://rukminim1.flixcart.com/image/312/312/x...   \n",
              "1           1  https://rukminim1.flixcart.com/image/312/312/x...   \n",
              "2           2  https://rukminim1.flixcart.com/image/312/312/l...   \n",
              "3           3  https://rukminim1.flixcart.com/image/312/312/x...   \n",
              "4           4  https://rukminim1.flixcart.com/image/312/312/x...   \n",
              "\n",
              "                                       name  price(in Rs.)  \\\n",
              "0             Lenovo Intel Core i5 11th Gen          62990   \n",
              "1            Lenovo V15 G2 Core i3 11th Gen          37500   \n",
              "2      ASUS TUF Gaming F15 Core i5 10th Gen          49990   \n",
              "3  ASUS VivoBook 15 (2022) Core i3 10th Gen          33990   \n",
              "4                   Lenovo Athlon Dual Core          18990   \n",
              "\n",
              "                            processor             ram  \\\n",
              "0  Intel Core i5 Processor (11th Gen)  16 GB DDR4 RAM   \n",
              "1  Intel Core i3 Processor (11th Gen)   8 GB DDR4 RAM   \n",
              "2  Intel Core i5 Processor (10th Gen)   8 GB DDR4 RAM   \n",
              "3  Intel Core i3 Processor (10th Gen)   8 GB DDR4 RAM   \n",
              "4      AMD Athlon Dual Core Processor   4 GB DDR4 RAM   \n",
              "\n",
              "                                   os              storage  display(in inch)  \\\n",
              "0         Windows 11 Operating System           512 GB SSD              15.6   \n",
              "1  64 bit Windows 11 Operating System  1 TB HDD|256 GB SSD              15.6   \n",
              "2         Windows 11 Operating System           512 GB SSD              15.6   \n",
              "3  64 bit Windows 11 Operating System           512 GB SSD              15.6   \n",
              "4                DOS Operating System           256 GB SSD              14.0   \n",
              "\n",
              "   rating  no_of_ratings  no_of_reviews  \n",
              "0     4.5           14.0            1.0  \n",
              "1     4.4           53.0            3.0  \n",
              "2     4.4         4733.0          463.0  \n",
              "3     4.3        10406.0         1040.0  \n",
              "4     3.8           18.0            3.0  "
            ],
            "text/html": [
              "\n",
              "  <div id=\"df-1912761a-5aca-4796-8706-fd080724624b\">\n",
              "    <div class=\"colab-df-container\">\n",
              "      <div>\n",
              "<style scoped>\n",
              "    .dataframe tbody tr th:only-of-type {\n",
              "        vertical-align: middle;\n",
              "    }\n",
              "\n",
              "    .dataframe tbody tr th {\n",
              "        vertical-align: top;\n",
              "    }\n",
              "\n",
              "    .dataframe thead th {\n",
              "        text-align: right;\n",
              "    }\n",
              "</style>\n",
              "<table border=\"1\" class=\"dataframe\">\n",
              "  <thead>\n",
              "    <tr style=\"text-align: right;\">\n",
              "      <th></th>\n",
              "      <th>Unnamed: 0</th>\n",
              "      <th>img_link</th>\n",
              "      <th>name</th>\n",
              "      <th>price(in Rs.)</th>\n",
              "      <th>processor</th>\n",
              "      <th>ram</th>\n",
              "      <th>os</th>\n",
              "      <th>storage</th>\n",
              "      <th>display(in inch)</th>\n",
              "      <th>rating</th>\n",
              "      <th>no_of_ratings</th>\n",
              "      <th>no_of_reviews</th>\n",
              "    </tr>\n",
              "  </thead>\n",
              "  <tbody>\n",
              "    <tr>\n",
              "      <th>0</th>\n",
              "      <td>0</td>\n",
              "      <td>https://rukminim1.flixcart.com/image/312/312/x...</td>\n",
              "      <td>Lenovo Intel Core i5 11th Gen</td>\n",
              "      <td>62990</td>\n",
              "      <td>Intel Core i5 Processor (11th Gen)</td>\n",
              "      <td>16 GB DDR4 RAM</td>\n",
              "      <td>Windows 11 Operating System</td>\n",
              "      <td>512 GB SSD</td>\n",
              "      <td>15.6</td>\n",
              "      <td>4.5</td>\n",
              "      <td>14.0</td>\n",
              "      <td>1.0</td>\n",
              "    </tr>\n",
              "    <tr>\n",
              "      <th>1</th>\n",
              "      <td>1</td>\n",
              "      <td>https://rukminim1.flixcart.com/image/312/312/x...</td>\n",
              "      <td>Lenovo V15 G2 Core i3 11th Gen</td>\n",
              "      <td>37500</td>\n",
              "      <td>Intel Core i3 Processor (11th Gen)</td>\n",
              "      <td>8 GB DDR4 RAM</td>\n",
              "      <td>64 bit Windows 11 Operating System</td>\n",
              "      <td>1 TB HDD|256 GB SSD</td>\n",
              "      <td>15.6</td>\n",
              "      <td>4.4</td>\n",
              "      <td>53.0</td>\n",
              "      <td>3.0</td>\n",
              "    </tr>\n",
              "    <tr>\n",
              "      <th>2</th>\n",
              "      <td>2</td>\n",
              "      <td>https://rukminim1.flixcart.com/image/312/312/l...</td>\n",
              "      <td>ASUS TUF Gaming F15 Core i5 10th Gen</td>\n",
              "      <td>49990</td>\n",
              "      <td>Intel Core i5 Processor (10th Gen)</td>\n",
              "      <td>8 GB DDR4 RAM</td>\n",
              "      <td>Windows 11 Operating System</td>\n",
              "      <td>512 GB SSD</td>\n",
              "      <td>15.6</td>\n",
              "      <td>4.4</td>\n",
              "      <td>4733.0</td>\n",
              "      <td>463.0</td>\n",
              "    </tr>\n",
              "    <tr>\n",
              "      <th>3</th>\n",
              "      <td>3</td>\n",
              "      <td>https://rukminim1.flixcart.com/image/312/312/x...</td>\n",
              "      <td>ASUS VivoBook 15 (2022) Core i3 10th Gen</td>\n",
              "      <td>33990</td>\n",
              "      <td>Intel Core i3 Processor (10th Gen)</td>\n",
              "      <td>8 GB DDR4 RAM</td>\n",
              "      <td>64 bit Windows 11 Operating System</td>\n",
              "      <td>512 GB SSD</td>\n",
              "      <td>15.6</td>\n",
              "      <td>4.3</td>\n",
              "      <td>10406.0</td>\n",
              "      <td>1040.0</td>\n",
              "    </tr>\n",
              "    <tr>\n",
              "      <th>4</th>\n",
              "      <td>4</td>\n",
              "      <td>https://rukminim1.flixcart.com/image/312/312/x...</td>\n",
              "      <td>Lenovo Athlon Dual Core</td>\n",
              "      <td>18990</td>\n",
              "      <td>AMD Athlon Dual Core Processor</td>\n",
              "      <td>4 GB DDR4 RAM</td>\n",
              "      <td>DOS Operating System</td>\n",
              "      <td>256 GB SSD</td>\n",
              "      <td>14.0</td>\n",
              "      <td>3.8</td>\n",
              "      <td>18.0</td>\n",
              "      <td>3.0</td>\n",
              "    </tr>\n",
              "  </tbody>\n",
              "</table>\n",
              "</div>\n",
              "      <button class=\"colab-df-convert\" onclick=\"convertToInteractive('df-1912761a-5aca-4796-8706-fd080724624b')\"\n",
              "              title=\"Convert this dataframe to an interactive table.\"\n",
              "              style=\"display:none;\">\n",
              "        \n",
              "  <svg xmlns=\"http://www.w3.org/2000/svg\" height=\"24px\"viewBox=\"0 0 24 24\"\n",
              "       width=\"24px\">\n",
              "    <path d=\"M0 0h24v24H0V0z\" fill=\"none\"/>\n",
              "    <path d=\"M18.56 5.44l.94 2.06.94-2.06 2.06-.94-2.06-.94-.94-2.06-.94 2.06-2.06.94zm-11 1L8.5 8.5l.94-2.06 2.06-.94-2.06-.94L8.5 2.5l-.94 2.06-2.06.94zm10 10l.94 2.06.94-2.06 2.06-.94-2.06-.94-.94-2.06-.94 2.06-2.06.94z\"/><path d=\"M17.41 7.96l-1.37-1.37c-.4-.4-.92-.59-1.43-.59-.52 0-1.04.2-1.43.59L10.3 9.45l-7.72 7.72c-.78.78-.78 2.05 0 2.83L4 21.41c.39.39.9.59 1.41.59.51 0 1.02-.2 1.41-.59l7.78-7.78 2.81-2.81c.8-.78.8-2.07 0-2.86zM5.41 20L4 18.59l7.72-7.72 1.47 1.35L5.41 20z\"/>\n",
              "  </svg>\n",
              "      </button>\n",
              "      \n",
              "  <style>\n",
              "    .colab-df-container {\n",
              "      display:flex;\n",
              "      flex-wrap:wrap;\n",
              "      gap: 12px;\n",
              "    }\n",
              "\n",
              "    .colab-df-convert {\n",
              "      background-color: #E8F0FE;\n",
              "      border: none;\n",
              "      border-radius: 50%;\n",
              "      cursor: pointer;\n",
              "      display: none;\n",
              "      fill: #1967D2;\n",
              "      height: 32px;\n",
              "      padding: 0 0 0 0;\n",
              "      width: 32px;\n",
              "    }\n",
              "\n",
              "    .colab-df-convert:hover {\n",
              "      background-color: #E2EBFA;\n",
              "      box-shadow: 0px 1px 2px rgba(60, 64, 67, 0.3), 0px 1px 3px 1px rgba(60, 64, 67, 0.15);\n",
              "      fill: #174EA6;\n",
              "    }\n",
              "\n",
              "    [theme=dark] .colab-df-convert {\n",
              "      background-color: #3B4455;\n",
              "      fill: #D2E3FC;\n",
              "    }\n",
              "\n",
              "    [theme=dark] .colab-df-convert:hover {\n",
              "      background-color: #434B5C;\n",
              "      box-shadow: 0px 1px 3px 1px rgba(0, 0, 0, 0.15);\n",
              "      filter: drop-shadow(0px 1px 2px rgba(0, 0, 0, 0.3));\n",
              "      fill: #FFFFFF;\n",
              "    }\n",
              "  </style>\n",
              "\n",
              "      <script>\n",
              "        const buttonEl =\n",
              "          document.querySelector('#df-1912761a-5aca-4796-8706-fd080724624b button.colab-df-convert');\n",
              "        buttonEl.style.display =\n",
              "          google.colab.kernel.accessAllowed ? 'block' : 'none';\n",
              "\n",
              "        async function convertToInteractive(key) {\n",
              "          const element = document.querySelector('#df-1912761a-5aca-4796-8706-fd080724624b');\n",
              "          const dataTable =\n",
              "            await google.colab.kernel.invokeFunction('convertToInteractive',\n",
              "                                                     [key], {});\n",
              "          if (!dataTable) return;\n",
              "\n",
              "          const docLinkHtml = 'Like what you see? Visit the ' +\n",
              "            '<a target=\"_blank\" href=https://colab.research.google.com/notebooks/data_table.ipynb>data table notebook</a>'\n",
              "            + ' to learn more about interactive tables.';\n",
              "          element.innerHTML = '';\n",
              "          dataTable['output_type'] = 'display_data';\n",
              "          await google.colab.output.renderOutput(dataTable, element);\n",
              "          const docLink = document.createElement('div');\n",
              "          docLink.innerHTML = docLinkHtml;\n",
              "          element.appendChild(docLink);\n",
              "        }\n",
              "      </script>\n",
              "    </div>\n",
              "  </div>\n",
              "  "
            ]
          },
          "metadata": {},
          "execution_count": 10
        }
      ]
    },
    {
      "cell_type": "code",
      "source": [
        "# Last 5 rows of the data.\n",
        "laptops_df.tail()"
      ],
      "metadata": {
        "id": "SuYeeBaeWNtu",
        "colab": {
          "base_uri": "https://localhost:8080/",
          "height": 617
        },
        "outputId": "97693454-a742-49de-bc04-d109de7b7a22"
      },
      "execution_count": 8,
      "outputs": [
        {
          "output_type": "execute_result",
          "data": {
            "text/plain": [
              "     Unnamed: 0                                           img_link  \\\n",
              "979         979  https://rukminim1.flixcart.com/image/312/312/k...   \n",
              "980         980  https://rukminim1.flixcart.com/image/312/312/k...   \n",
              "981         981  https://rukminim1.flixcart.com/image/312/312/x...   \n",
              "982         982  https://rukminim1.flixcart.com/image/312/312/k...   \n",
              "983         983  https://rukminim1.flixcart.com/image/312/312/x...   \n",
              "\n",
              "                                    name  price(in Rs.)  \\\n",
              "979    ASUS VivoBook 15 Core i3 10th Gen          37990   \n",
              "980  HP Chromebook MediaTek Kompanio 500          22670   \n",
              "981               ASUS Ryzen 5 Hexa Core          54990   \n",
              "982       DELL Inspiron Core i3 11th Gen          40990   \n",
              "983      ASUS Celeron Dual Core 10th Gen          24540   \n",
              "\n",
              "                                        processor               ram  \\\n",
              "979            Intel Core i3 Processor (10th Gen)     8 GB DDR4 RAM   \n",
              "980      MediaTek MediaTek Kompanio 500 Processor  4 GB LPDDR4X RAM   \n",
              "981               AMD Ryzen 5 Hexa Core Processor     8 GB DDR4 RAM   \n",
              "982            Intel Core i3 Processor (11th Gen)     8 GB DDR4 RAM   \n",
              "983  Intel Celeron Dual Core Processor (10th Gen)     4 GB DDR4 RAM   \n",
              "\n",
              "                                     os              storage  \\\n",
              "979  64 bit Windows 10 Operating System             1 TB HDD   \n",
              "980             Chrome Operating System             1 TB HDD   \n",
              "981         Windows 11 Operating System           512 GB SSD   \n",
              "982  64 bit Windows 11 Operating System  1 TB HDD|256 GB SSD   \n",
              "983         Windows 11 Operating System           256 GB SSD   \n",
              "\n",
              "     display(in inch)  rating  no_of_ratings  no_of_reviews  \n",
              "979              15.6     4.0         1907.0          227.0  \n",
              "980              11.6     3.8         5991.0          687.0  \n",
              "981              14.0     4.5           22.0            5.0  \n",
              "982              15.6     4.0          801.0          104.0  \n",
              "983              14.0     NaN            NaN            NaN  "
            ],
            "text/html": [
              "\n",
              "  <div id=\"df-3cd4324b-05e4-4a2a-87d3-f244cb0d07f4\">\n",
              "    <div class=\"colab-df-container\">\n",
              "      <div>\n",
              "<style scoped>\n",
              "    .dataframe tbody tr th:only-of-type {\n",
              "        vertical-align: middle;\n",
              "    }\n",
              "\n",
              "    .dataframe tbody tr th {\n",
              "        vertical-align: top;\n",
              "    }\n",
              "\n",
              "    .dataframe thead th {\n",
              "        text-align: right;\n",
              "    }\n",
              "</style>\n",
              "<table border=\"1\" class=\"dataframe\">\n",
              "  <thead>\n",
              "    <tr style=\"text-align: right;\">\n",
              "      <th></th>\n",
              "      <th>Unnamed: 0</th>\n",
              "      <th>img_link</th>\n",
              "      <th>name</th>\n",
              "      <th>price(in Rs.)</th>\n",
              "      <th>processor</th>\n",
              "      <th>ram</th>\n",
              "      <th>os</th>\n",
              "      <th>storage</th>\n",
              "      <th>display(in inch)</th>\n",
              "      <th>rating</th>\n",
              "      <th>no_of_ratings</th>\n",
              "      <th>no_of_reviews</th>\n",
              "    </tr>\n",
              "  </thead>\n",
              "  <tbody>\n",
              "    <tr>\n",
              "      <th>979</th>\n",
              "      <td>979</td>\n",
              "      <td>https://rukminim1.flixcart.com/image/312/312/k...</td>\n",
              "      <td>ASUS VivoBook 15 Core i3 10th Gen</td>\n",
              "      <td>37990</td>\n",
              "      <td>Intel Core i3 Processor (10th Gen)</td>\n",
              "      <td>8 GB DDR4 RAM</td>\n",
              "      <td>64 bit Windows 10 Operating System</td>\n",
              "      <td>1 TB HDD</td>\n",
              "      <td>15.6</td>\n",
              "      <td>4.0</td>\n",
              "      <td>1907.0</td>\n",
              "      <td>227.0</td>\n",
              "    </tr>\n",
              "    <tr>\n",
              "      <th>980</th>\n",
              "      <td>980</td>\n",
              "      <td>https://rukminim1.flixcart.com/image/312/312/k...</td>\n",
              "      <td>HP Chromebook MediaTek Kompanio 500</td>\n",
              "      <td>22670</td>\n",
              "      <td>MediaTek MediaTek Kompanio 500 Processor</td>\n",
              "      <td>4 GB LPDDR4X RAM</td>\n",
              "      <td>Chrome Operating System</td>\n",
              "      <td>1 TB HDD</td>\n",
              "      <td>11.6</td>\n",
              "      <td>3.8</td>\n",
              "      <td>5991.0</td>\n",
              "      <td>687.0</td>\n",
              "    </tr>\n",
              "    <tr>\n",
              "      <th>981</th>\n",
              "      <td>981</td>\n",
              "      <td>https://rukminim1.flixcart.com/image/312/312/x...</td>\n",
              "      <td>ASUS Ryzen 5 Hexa Core</td>\n",
              "      <td>54990</td>\n",
              "      <td>AMD Ryzen 5 Hexa Core Processor</td>\n",
              "      <td>8 GB DDR4 RAM</td>\n",
              "      <td>Windows 11 Operating System</td>\n",
              "      <td>512 GB SSD</td>\n",
              "      <td>14.0</td>\n",
              "      <td>4.5</td>\n",
              "      <td>22.0</td>\n",
              "      <td>5.0</td>\n",
              "    </tr>\n",
              "    <tr>\n",
              "      <th>982</th>\n",
              "      <td>982</td>\n",
              "      <td>https://rukminim1.flixcart.com/image/312/312/k...</td>\n",
              "      <td>DELL Inspiron Core i3 11th Gen</td>\n",
              "      <td>40990</td>\n",
              "      <td>Intel Core i3 Processor (11th Gen)</td>\n",
              "      <td>8 GB DDR4 RAM</td>\n",
              "      <td>64 bit Windows 11 Operating System</td>\n",
              "      <td>1 TB HDD|256 GB SSD</td>\n",
              "      <td>15.6</td>\n",
              "      <td>4.0</td>\n",
              "      <td>801.0</td>\n",
              "      <td>104.0</td>\n",
              "    </tr>\n",
              "    <tr>\n",
              "      <th>983</th>\n",
              "      <td>983</td>\n",
              "      <td>https://rukminim1.flixcart.com/image/312/312/x...</td>\n",
              "      <td>ASUS Celeron Dual Core 10th Gen</td>\n",
              "      <td>24540</td>\n",
              "      <td>Intel Celeron Dual Core Processor (10th Gen)</td>\n",
              "      <td>4 GB DDR4 RAM</td>\n",
              "      <td>Windows 11 Operating System</td>\n",
              "      <td>256 GB SSD</td>\n",
              "      <td>14.0</td>\n",
              "      <td>NaN</td>\n",
              "      <td>NaN</td>\n",
              "      <td>NaN</td>\n",
              "    </tr>\n",
              "  </tbody>\n",
              "</table>\n",
              "</div>\n",
              "      <button class=\"colab-df-convert\" onclick=\"convertToInteractive('df-3cd4324b-05e4-4a2a-87d3-f244cb0d07f4')\"\n",
              "              title=\"Convert this dataframe to an interactive table.\"\n",
              "              style=\"display:none;\">\n",
              "        \n",
              "  <svg xmlns=\"http://www.w3.org/2000/svg\" height=\"24px\"viewBox=\"0 0 24 24\"\n",
              "       width=\"24px\">\n",
              "    <path d=\"M0 0h24v24H0V0z\" fill=\"none\"/>\n",
              "    <path d=\"M18.56 5.44l.94 2.06.94-2.06 2.06-.94-2.06-.94-.94-2.06-.94 2.06-2.06.94zm-11 1L8.5 8.5l.94-2.06 2.06-.94-2.06-.94L8.5 2.5l-.94 2.06-2.06.94zm10 10l.94 2.06.94-2.06 2.06-.94-2.06-.94-.94-2.06-.94 2.06-2.06.94z\"/><path d=\"M17.41 7.96l-1.37-1.37c-.4-.4-.92-.59-1.43-.59-.52 0-1.04.2-1.43.59L10.3 9.45l-7.72 7.72c-.78.78-.78 2.05 0 2.83L4 21.41c.39.39.9.59 1.41.59.51 0 1.02-.2 1.41-.59l7.78-7.78 2.81-2.81c.8-.78.8-2.07 0-2.86zM5.41 20L4 18.59l7.72-7.72 1.47 1.35L5.41 20z\"/>\n",
              "  </svg>\n",
              "      </button>\n",
              "      \n",
              "  <style>\n",
              "    .colab-df-container {\n",
              "      display:flex;\n",
              "      flex-wrap:wrap;\n",
              "      gap: 12px;\n",
              "    }\n",
              "\n",
              "    .colab-df-convert {\n",
              "      background-color: #E8F0FE;\n",
              "      border: none;\n",
              "      border-radius: 50%;\n",
              "      cursor: pointer;\n",
              "      display: none;\n",
              "      fill: #1967D2;\n",
              "      height: 32px;\n",
              "      padding: 0 0 0 0;\n",
              "      width: 32px;\n",
              "    }\n",
              "\n",
              "    .colab-df-convert:hover {\n",
              "      background-color: #E2EBFA;\n",
              "      box-shadow: 0px 1px 2px rgba(60, 64, 67, 0.3), 0px 1px 3px 1px rgba(60, 64, 67, 0.15);\n",
              "      fill: #174EA6;\n",
              "    }\n",
              "\n",
              "    [theme=dark] .colab-df-convert {\n",
              "      background-color: #3B4455;\n",
              "      fill: #D2E3FC;\n",
              "    }\n",
              "\n",
              "    [theme=dark] .colab-df-convert:hover {\n",
              "      background-color: #434B5C;\n",
              "      box-shadow: 0px 1px 3px 1px rgba(0, 0, 0, 0.15);\n",
              "      filter: drop-shadow(0px 1px 2px rgba(0, 0, 0, 0.3));\n",
              "      fill: #FFFFFF;\n",
              "    }\n",
              "  </style>\n",
              "\n",
              "      <script>\n",
              "        const buttonEl =\n",
              "          document.querySelector('#df-3cd4324b-05e4-4a2a-87d3-f244cb0d07f4 button.colab-df-convert');\n",
              "        buttonEl.style.display =\n",
              "          google.colab.kernel.accessAllowed ? 'block' : 'none';\n",
              "\n",
              "        async function convertToInteractive(key) {\n",
              "          const element = document.querySelector('#df-3cd4324b-05e4-4a2a-87d3-f244cb0d07f4');\n",
              "          const dataTable =\n",
              "            await google.colab.kernel.invokeFunction('convertToInteractive',\n",
              "                                                     [key], {});\n",
              "          if (!dataTable) return;\n",
              "\n",
              "          const docLinkHtml = 'Like what you see? Visit the ' +\n",
              "            '<a target=\"_blank\" href=https://colab.research.google.com/notebooks/data_table.ipynb>data table notebook</a>'\n",
              "            + ' to learn more about interactive tables.';\n",
              "          element.innerHTML = '';\n",
              "          dataTable['output_type'] = 'display_data';\n",
              "          await google.colab.output.renderOutput(dataTable, element);\n",
              "          const docLink = document.createElement('div');\n",
              "          docLink.innerHTML = docLinkHtml;\n",
              "          element.appendChild(docLink);\n",
              "        }\n",
              "      </script>\n",
              "    </div>\n",
              "  </div>\n",
              "  "
            ]
          },
          "metadata": {},
          "execution_count": 8
        }
      ]
    },
    {
      "cell_type": "code",
      "source": [
        "# Shape of the dataset\n",
        "laptops_df.shape"
      ],
      "metadata": {
        "id": "yYVEfARdXl_f",
        "colab": {
          "base_uri": "https://localhost:8080/"
        },
        "outputId": "cd3233db-7866-4eee-b3eb-e7b617456287"
      },
      "execution_count": 11,
      "outputs": [
        {
          "output_type": "execute_result",
          "data": {
            "text/plain": [
              "(984, 12)"
            ]
          },
          "metadata": {},
          "execution_count": 11
        }
      ]
    },
    {
      "cell_type": "code",
      "source": [
        "# Summary statistics\n",
        "laptops_df.describe()"
      ],
      "metadata": {
        "id": "BpEAMCCMPqk7",
        "colab": {
          "base_uri": "https://localhost:8080/",
          "height": 300
        },
        "outputId": "8223ad4b-e974-46b7-c971-1b4c67cf74e1"
      },
      "execution_count": 12,
      "outputs": [
        {
          "output_type": "execute_result",
          "data": {
            "text/plain": [
              "       Unnamed: 0  price(in Rs.)  display(in inch)      rating  no_of_ratings  \\\n",
              "count  984.000000     984.000000        984.000000  688.000000     688.000000   \n",
              "mean   491.500000   80960.720528         15.148374    4.284884     718.091570   \n",
              "std    284.200633   57421.220919          1.332078    0.330239    1750.817825   \n",
              "min      0.000000   15990.000000         11.600000    1.600000       1.000000   \n",
              "25%    245.750000   42655.000000         14.000000    4.100000      14.000000   \n",
              "50%    491.500000   62990.000000         15.600000    4.300000      90.000000   \n",
              "75%    737.250000   94990.000000         15.600000    4.500000     453.000000   \n",
              "max    983.000000  419990.000000         35.000000    5.000000   15492.000000   \n",
              "\n",
              "       no_of_reviews  \n",
              "count     688.000000  \n",
              "mean       83.898256  \n",
              "std       211.596726  \n",
              "min         0.000000  \n",
              "25%         2.000000  \n",
              "50%        11.000000  \n",
              "75%        53.500000  \n",
              "max      2054.000000  "
            ],
            "text/html": [
              "\n",
              "  <div id=\"df-5b82d1fb-7d67-4ac9-b484-f434a71fa8e9\">\n",
              "    <div class=\"colab-df-container\">\n",
              "      <div>\n",
              "<style scoped>\n",
              "    .dataframe tbody tr th:only-of-type {\n",
              "        vertical-align: middle;\n",
              "    }\n",
              "\n",
              "    .dataframe tbody tr th {\n",
              "        vertical-align: top;\n",
              "    }\n",
              "\n",
              "    .dataframe thead th {\n",
              "        text-align: right;\n",
              "    }\n",
              "</style>\n",
              "<table border=\"1\" class=\"dataframe\">\n",
              "  <thead>\n",
              "    <tr style=\"text-align: right;\">\n",
              "      <th></th>\n",
              "      <th>Unnamed: 0</th>\n",
              "      <th>price(in Rs.)</th>\n",
              "      <th>display(in inch)</th>\n",
              "      <th>rating</th>\n",
              "      <th>no_of_ratings</th>\n",
              "      <th>no_of_reviews</th>\n",
              "    </tr>\n",
              "  </thead>\n",
              "  <tbody>\n",
              "    <tr>\n",
              "      <th>count</th>\n",
              "      <td>984.000000</td>\n",
              "      <td>984.000000</td>\n",
              "      <td>984.000000</td>\n",
              "      <td>688.000000</td>\n",
              "      <td>688.000000</td>\n",
              "      <td>688.000000</td>\n",
              "    </tr>\n",
              "    <tr>\n",
              "      <th>mean</th>\n",
              "      <td>491.500000</td>\n",
              "      <td>80960.720528</td>\n",
              "      <td>15.148374</td>\n",
              "      <td>4.284884</td>\n",
              "      <td>718.091570</td>\n",
              "      <td>83.898256</td>\n",
              "    </tr>\n",
              "    <tr>\n",
              "      <th>std</th>\n",
              "      <td>284.200633</td>\n",
              "      <td>57421.220919</td>\n",
              "      <td>1.332078</td>\n",
              "      <td>0.330239</td>\n",
              "      <td>1750.817825</td>\n",
              "      <td>211.596726</td>\n",
              "    </tr>\n",
              "    <tr>\n",
              "      <th>min</th>\n",
              "      <td>0.000000</td>\n",
              "      <td>15990.000000</td>\n",
              "      <td>11.600000</td>\n",
              "      <td>1.600000</td>\n",
              "      <td>1.000000</td>\n",
              "      <td>0.000000</td>\n",
              "    </tr>\n",
              "    <tr>\n",
              "      <th>25%</th>\n",
              "      <td>245.750000</td>\n",
              "      <td>42655.000000</td>\n",
              "      <td>14.000000</td>\n",
              "      <td>4.100000</td>\n",
              "      <td>14.000000</td>\n",
              "      <td>2.000000</td>\n",
              "    </tr>\n",
              "    <tr>\n",
              "      <th>50%</th>\n",
              "      <td>491.500000</td>\n",
              "      <td>62990.000000</td>\n",
              "      <td>15.600000</td>\n",
              "      <td>4.300000</td>\n",
              "      <td>90.000000</td>\n",
              "      <td>11.000000</td>\n",
              "    </tr>\n",
              "    <tr>\n",
              "      <th>75%</th>\n",
              "      <td>737.250000</td>\n",
              "      <td>94990.000000</td>\n",
              "      <td>15.600000</td>\n",
              "      <td>4.500000</td>\n",
              "      <td>453.000000</td>\n",
              "      <td>53.500000</td>\n",
              "    </tr>\n",
              "    <tr>\n",
              "      <th>max</th>\n",
              "      <td>983.000000</td>\n",
              "      <td>419990.000000</td>\n",
              "      <td>35.000000</td>\n",
              "      <td>5.000000</td>\n",
              "      <td>15492.000000</td>\n",
              "      <td>2054.000000</td>\n",
              "    </tr>\n",
              "  </tbody>\n",
              "</table>\n",
              "</div>\n",
              "      <button class=\"colab-df-convert\" onclick=\"convertToInteractive('df-5b82d1fb-7d67-4ac9-b484-f434a71fa8e9')\"\n",
              "              title=\"Convert this dataframe to an interactive table.\"\n",
              "              style=\"display:none;\">\n",
              "        \n",
              "  <svg xmlns=\"http://www.w3.org/2000/svg\" height=\"24px\"viewBox=\"0 0 24 24\"\n",
              "       width=\"24px\">\n",
              "    <path d=\"M0 0h24v24H0V0z\" fill=\"none\"/>\n",
              "    <path d=\"M18.56 5.44l.94 2.06.94-2.06 2.06-.94-2.06-.94-.94-2.06-.94 2.06-2.06.94zm-11 1L8.5 8.5l.94-2.06 2.06-.94-2.06-.94L8.5 2.5l-.94 2.06-2.06.94zm10 10l.94 2.06.94-2.06 2.06-.94-2.06-.94-.94-2.06-.94 2.06-2.06.94z\"/><path d=\"M17.41 7.96l-1.37-1.37c-.4-.4-.92-.59-1.43-.59-.52 0-1.04.2-1.43.59L10.3 9.45l-7.72 7.72c-.78.78-.78 2.05 0 2.83L4 21.41c.39.39.9.59 1.41.59.51 0 1.02-.2 1.41-.59l7.78-7.78 2.81-2.81c.8-.78.8-2.07 0-2.86zM5.41 20L4 18.59l7.72-7.72 1.47 1.35L5.41 20z\"/>\n",
              "  </svg>\n",
              "      </button>\n",
              "      \n",
              "  <style>\n",
              "    .colab-df-container {\n",
              "      display:flex;\n",
              "      flex-wrap:wrap;\n",
              "      gap: 12px;\n",
              "    }\n",
              "\n",
              "    .colab-df-convert {\n",
              "      background-color: #E8F0FE;\n",
              "      border: none;\n",
              "      border-radius: 50%;\n",
              "      cursor: pointer;\n",
              "      display: none;\n",
              "      fill: #1967D2;\n",
              "      height: 32px;\n",
              "      padding: 0 0 0 0;\n",
              "      width: 32px;\n",
              "    }\n",
              "\n",
              "    .colab-df-convert:hover {\n",
              "      background-color: #E2EBFA;\n",
              "      box-shadow: 0px 1px 2px rgba(60, 64, 67, 0.3), 0px 1px 3px 1px rgba(60, 64, 67, 0.15);\n",
              "      fill: #174EA6;\n",
              "    }\n",
              "\n",
              "    [theme=dark] .colab-df-convert {\n",
              "      background-color: #3B4455;\n",
              "      fill: #D2E3FC;\n",
              "    }\n",
              "\n",
              "    [theme=dark] .colab-df-convert:hover {\n",
              "      background-color: #434B5C;\n",
              "      box-shadow: 0px 1px 3px 1px rgba(0, 0, 0, 0.15);\n",
              "      filter: drop-shadow(0px 1px 2px rgba(0, 0, 0, 0.3));\n",
              "      fill: #FFFFFF;\n",
              "    }\n",
              "  </style>\n",
              "\n",
              "      <script>\n",
              "        const buttonEl =\n",
              "          document.querySelector('#df-5b82d1fb-7d67-4ac9-b484-f434a71fa8e9 button.colab-df-convert');\n",
              "        buttonEl.style.display =\n",
              "          google.colab.kernel.accessAllowed ? 'block' : 'none';\n",
              "\n",
              "        async function convertToInteractive(key) {\n",
              "          const element = document.querySelector('#df-5b82d1fb-7d67-4ac9-b484-f434a71fa8e9');\n",
              "          const dataTable =\n",
              "            await google.colab.kernel.invokeFunction('convertToInteractive',\n",
              "                                                     [key], {});\n",
              "          if (!dataTable) return;\n",
              "\n",
              "          const docLinkHtml = 'Like what you see? Visit the ' +\n",
              "            '<a target=\"_blank\" href=https://colab.research.google.com/notebooks/data_table.ipynb>data table notebook</a>'\n",
              "            + ' to learn more about interactive tables.';\n",
              "          element.innerHTML = '';\n",
              "          dataTable['output_type'] = 'display_data';\n",
              "          await google.colab.output.renderOutput(dataTable, element);\n",
              "          const docLink = document.createElement('div');\n",
              "          docLink.innerHTML = docLinkHtml;\n",
              "          element.appendChild(docLink);\n",
              "        }\n",
              "      </script>\n",
              "    </div>\n",
              "  </div>\n",
              "  "
            ]
          },
          "metadata": {},
          "execution_count": 12
        }
      ]
    },
    {
      "cell_type": "markdown",
      "source": [
        "# **2. Data Preparation.**"
      ],
      "metadata": {
        "id": "1LOGkCE7UOsu"
      }
    },
    {
      "cell_type": "code",
      "source": [
        "# Data types of the features / columns.\n",
        "laptops_df.dtypes"
      ],
      "metadata": {
        "id": "adTOk6CfXuqE",
        "colab": {
          "base_uri": "https://localhost:8080/"
        },
        "outputId": "a251ede5-bfee-4c67-dde9-14bb604f9176"
      },
      "execution_count": 32,
      "outputs": [
        {
          "output_type": "execute_result",
          "data": {
            "text/plain": [
              "Unnamed: 0            int64\n",
              "img_link             object\n",
              "name                 object\n",
              "price(in Rs.)         int64\n",
              "processor            object\n",
              "ram                  object\n",
              "os                   object\n",
              "storage              object\n",
              "display(in inch)    float64\n",
              "rating              float64\n",
              "no_of_ratings       float64\n",
              "no_of_reviews       float64\n",
              "operating_system     object\n",
              "dtype: object"
            ]
          },
          "metadata": {},
          "execution_count": 32
        }
      ]
    },
    {
      "cell_type": "code",
      "source": [
        "# Missing values in the dataset.\n",
        "laptops_df.isna().sum()"
      ],
      "metadata": {
        "id": "euaMfyxkUTGS",
        "colab": {
          "base_uri": "https://localhost:8080/"
        },
        "outputId": "ccf0ae13-bd0d-4a94-f722-5fec5384dcf2"
      },
      "execution_count": 33,
      "outputs": [
        {
          "output_type": "execute_result",
          "data": {
            "text/plain": [
              "Unnamed: 0            0\n",
              "img_link              0\n",
              "name                  0\n",
              "price(in Rs.)         0\n",
              "processor             0\n",
              "ram                   0\n",
              "os                    0\n",
              "storage               0\n",
              "display(in inch)      0\n",
              "rating              296\n",
              "no_of_ratings       296\n",
              "no_of_reviews       296\n",
              "operating_system      0\n",
              "dtype: int64"
            ]
          },
          "metadata": {},
          "execution_count": 33
        }
      ]
    },
    {
      "cell_type": "code",
      "source": [
        "# Filling the missing values in the columns ['rating', 'no_of_reviews', 'no_of_ratings] with their means.\n",
        "\n",
        "laptops_df['no_of_ratings'] = laptops_df['no_of_ratings'].fillna(laptops_df['no_of_ratings'].mean())\n",
        "laptops_df['no_of_reviews'] = laptops_df['no_of_reviews'].fillna(laptops_df['no_of_reviews'].mean())\n",
        "laptops_df['rating'] = laptops_df['rating'].fillna(laptops_df['rating'].mean())"
      ],
      "metadata": {
        "id": "8voL8cSxUTr9"
      },
      "execution_count": 34,
      "outputs": []
    },
    {
      "cell_type": "code",
      "source": [
        "# Checking any missing values.\n",
        "laptops_df.isna().sum()"
      ],
      "metadata": {
        "id": "2aokdyY-UTuw",
        "colab": {
          "base_uri": "https://localhost:8080/"
        },
        "outputId": "b564e263-2371-4dc7-af65-e1488da40bb1"
      },
      "execution_count": 35,
      "outputs": [
        {
          "output_type": "execute_result",
          "data": {
            "text/plain": [
              "Unnamed: 0          0\n",
              "img_link            0\n",
              "name                0\n",
              "price(in Rs.)       0\n",
              "processor           0\n",
              "ram                 0\n",
              "os                  0\n",
              "storage             0\n",
              "display(in inch)    0\n",
              "rating              0\n",
              "no_of_ratings       0\n",
              "no_of_reviews       0\n",
              "operating_system    0\n",
              "dtype: int64"
            ]
          },
          "metadata": {},
          "execution_count": 35
        }
      ]
    },
    {
      "cell_type": "markdown",
      "source": [
        "#**3. Data Querying.**"
      ],
      "metadata": {
        "id": "B6l3Y9ok25lN"
      }
    },
    {
      "cell_type": "markdown",
      "source": [
        "a) The highest and lowest price."
      ],
      "metadata": {
        "id": "YpmzC3gs4HKB"
      }
    },
    {
      "cell_type": "code",
      "source": [
        "# The highest and lowest price of laptops .\n",
        "price = laptops_df['price(in Rs.)'].describe()\n",
        "print(price)"
      ],
      "metadata": {
        "id": "uJm6a27sUT_0",
        "colab": {
          "base_uri": "https://localhost:8080/"
        },
        "outputId": "d5233cac-7771-4135-9453-191bf8ba97d9"
      },
      "execution_count": 159,
      "outputs": [
        {
          "output_type": "stream",
          "name": "stdout",
          "text": [
            "count       984.000000\n",
            "mean      80960.720528\n",
            "std       57421.220919\n",
            "min       15990.000000\n",
            "25%       42655.000000\n",
            "50%       62990.000000\n",
            "75%       94990.000000\n",
            "max      419990.000000\n",
            "Name: price(in Rs.), dtype: float64\n"
          ]
        }
      ]
    },
    {
      "cell_type": "markdown",
      "source": [
        "b) Unique laptop brands."
      ],
      "metadata": {
        "id": "k45SshNi5bFi"
      }
    },
    {
      "cell_type": "code",
      "source": [
        "# Unique laaptop brands \n",
        "laptops_df['name'].unique"
      ],
      "metadata": {
        "colab": {
          "base_uri": "https://localhost:8080/"
        },
        "id": "DQfYyLMd5fNs",
        "outputId": "9777dcc2-4fad-42de-d65d-5e43ab001072"
      },
      "execution_count": 160,
      "outputs": [
        {
          "output_type": "execute_result",
          "data": {
            "text/plain": [
              "<bound method Series.unique of 0                 Lenovo Intel Core i5 11th Gen\n",
              "1                Lenovo V15 G2 Core i3 11th Gen\n",
              "2          ASUS TUF Gaming F15 Core i5 10th Gen\n",
              "3      ASUS VivoBook 15 (2022) Core i3 10th Gen\n",
              "4                       Lenovo Athlon Dual Core\n",
              "                         ...                   \n",
              "979           ASUS VivoBook 15 Core i3 10th Gen\n",
              "980         HP Chromebook MediaTek Kompanio 500\n",
              "981                      ASUS Ryzen 5 Hexa Core\n",
              "982              DELL Inspiron Core i3 11th Gen\n",
              "983             ASUS Celeron Dual Core 10th Gen\n",
              "Name: name, Length: 984, dtype: object>"
            ]
          },
          "metadata": {},
          "execution_count": 160
        }
      ]
    },
    {
      "cell_type": "markdown",
      "source": [
        "# **4. Data Visualization.**"
      ],
      "metadata": {
        "id": "TYZJa9c9UVJi"
      }
    },
    {
      "cell_type": "markdown",
      "source": [
        "a) The price of laptops."
      ],
      "metadata": {
        "id": "gDNkPdpF4Dfj"
      }
    },
    {
      "cell_type": "code",
      "source": [
        "# The price of laptops vs the number of laptops with similar price.\n",
        "plt.figure(figsize=(14,7))\n",
        "sns.histplot(data = laptops_df, x = 'price(in Rs.)', kde = True,bins=20)\n",
        "\n",
        "plt.title('Price of Laptops')\n",
        "plt.xlabel('Price of laptop')\n",
        "plt.ylabel('No. of laptops')\n",
        "plt.show()"
      ],
      "metadata": {
        "id": "Z8X-XdaYUZvc",
        "colab": {
          "base_uri": "https://localhost:8080/",
          "height": 458
        },
        "outputId": "160174b0-06e8-4d58-9d93-f1e3c878c13d"
      },
      "execution_count": 212,
      "outputs": [
        {
          "output_type": "display_data",
          "data": {
            "text/plain": [
              "<Figure size 1008x504 with 1 Axes>"
            ],
            "image/png": "[encoded data removed]"
          },
          "metadata": {
            "needs_background": "light"
          }
        }
      ]
    },
    {
      "cell_type": "markdown",
      "source": [
        "b) The top 10 most popular  laptop brands."
      ],
      "metadata": {
        "id": "RxBUhfuK-4Lk"
      }
    },
    {
      "cell_type": "code",
      "source": [
        "# Laptop brands vs the number of laptops (Popularity of laptops)\n",
        "plt.figure(figsize=(14,7))\n",
        "laptops_df.groupby('name').size().sort_values(ascending=False).head(10).plot(kind = 'bar',color = sns.color_palette('muted'))\n",
        "\n",
        "plt.title('The top 10 most popular laptops brands')\n",
        "plt.ylabel('Number of Laptops')\n",
        "plt.xlabel('Laptop Brand')\n",
        "plt.show()"
      ],
      "metadata": {
        "id": "oDddvYt2UZ-H",
        "colab": {
          "base_uri": "https://localhost:8080/",
          "height": 669
        },
        "outputId": "f98786bf-88bc-45a6-c3a5-5b0f5ebe5f86"
      },
      "execution_count": 163,
      "outputs": [
        {
          "output_type": "display_data",
          "data": {
            "text/plain": [
              "<Figure size 1008x504 with 1 Axes>"
            ],
            "image/png": "[encoded data removed]"
          },
          "metadata": {
            "needs_background": "light"
          }
        }
      ]
    },
    {
      "cell_type": "markdown",
      "source": [
        "c) Top 10 most popular Hard Drive storage capacities."
      ],
      "metadata": {
        "id": "v97HrvQCy1Lr"
      }
    },
    {
      "cell_type": "code",
      "source": [
        "# Top 10 most popular laptop Hard Drive storage capacities.\n",
        "plt.figure(figsize=(14,7))\n",
        "laptops_df['storage'].value_counts().head(10).plot(kind = 'bar')\n",
        "\n",
        "plt.title('Top 10 popular storage capacities')\n",
        "plt.xlabel('Storage capacity')\n",
        "plt.ylabel('No. of laptops')\n",
        "plt.show()"
      ],
      "metadata": {
        "colab": {
          "base_uri": "https://localhost:8080/",
          "height": 575
        },
        "id": "_wzShXqGwyjB",
        "outputId": "41a3a919-a0fe-4737-decc-ebb83c851b8c"
      },
      "execution_count": 213,
      "outputs": [
        {
          "output_type": "display_data",
          "data": {
            "text/plain": [
              "<Figure size 1008x504 with 1 Axes>"
            ],
            "image/png": "[encoded data removed]"
          },
          "metadata": {
            "needs_background": "light"
          }
        }
      ]
    },
    {
      "cell_type": "markdown",
      "source": [
        "d) The top 5 most common RAM size of laptops"
      ],
      "metadata": {
        "id": "tc3DVlqbFtwi"
      }
    },
    {
      "cell_type": "code",
      "source": [
        "# Size of RAM in GB vs No. of laptops\n",
        "plt.figure(figsize=(14,7))\n",
        "laptops_df.groupby('ram').size().sort_values(ascending=False).head().plot(kind = 'bar',color = sns.color_palette('muted'))\n",
        "\n",
        "plt.title('Size of RAM vs No.of laptops')\n",
        "plt.xlabel('Size of RAM (GB)')\n",
        "plt.ylabel('No. of laptops')\n",
        "plt.show()"
      ],
      "metadata": {
        "id": "3qAhXrbVUaBm",
        "colab": {
          "base_uri": "https://localhost:8080/",
          "height": 548
        },
        "outputId": "8f5cdc8b-9847-4ebf-a2f1-328999b3ff47"
      },
      "execution_count": 187,
      "outputs": [
        {
          "output_type": "display_data",
          "data": {
            "text/plain": [
              "<Figure size 1008x504 with 1 Axes>"
            ],
            "image/png": "[encoded data removed]"
          },
          "metadata": {
            "needs_background": "light"
          }
        }
      ]
    },
    {
      "cell_type": "markdown",
      "source": [
        "e) The top 10 most popular processor types."
      ],
      "metadata": {
        "id": "5dFJUn-pFv_7"
      }
    },
    {
      "cell_type": "code",
      "source": [
        "# Processor type vs No. of laptops\n",
        "plt.figure(figsize=(14,7))\n",
        "laptops_df.groupby('processor').size().sort_values(ascending = False).head(10).plot(kind = 'barh', color = sns.color_palette(\"muted\"))\n",
        "\n",
        "plt.title(\"Top 10 most popular processor types.\")\n",
        "plt.ylabel(\"Processor type\")\n",
        "plt.xlabel(\"No. of laptops\")\n",
        "plt.show()"
      ],
      "metadata": {
        "id": "_K7ydQheUaEb",
        "colab": {
          "base_uri": "https://localhost:8080/",
          "height": 458
        },
        "outputId": "e3c5bfc5-ddb1-4806-ab3a-0aac5f67b297"
      },
      "execution_count": 29,
      "outputs": [
        {
          "output_type": "display_data",
          "data": {
            "text/plain": [
              "<Figure size 1008x504 with 1 Axes>"
            ],
            "image/png": "[encoded data removed]"
          },
          "metadata": {
            "needs_background": "light"
          }
        }
      ]
    },
    {
      "cell_type": "markdown",
      "source": [
        "f) Most popular Operating system."
      ],
      "metadata": {
        "id": "94DQiZRYFyAO"
      }
    },
    {
      "cell_type": "code",
      "source": [
        "# Most popular Operating System\n",
        "plt.figure(figsize=(14,7))\n",
        "laptops_df.groupby('operating_system').size().sort_values(ascending = False).plot(kind = 'bar', color = sns.color_palette(\"hsv_r\"))\n",
        "\n",
        "plt.title(\"Most popular Operating Systems\")\n",
        "plt.ylabel(\"Number of laptops with the OS\")\n",
        "plt.xlabel(\"Type of Operating System\")\n",
        "plt.show()"
      ],
      "metadata": {
        "id": "QWafHDBRUaSo",
        "colab": {
          "base_uri": "https://localhost:8080/",
          "height": 602
        },
        "outputId": "524b2e36-9cd7-47c3-e7a7-0c9de5ef0a62"
      },
      "execution_count": 21,
      "outputs": [
        {
          "output_type": "display_data",
          "data": {
            "text/plain": [
              "<Figure size 1008x504 with 1 Axes>"
            ],
            "image/png": "[encoded data removed]"
          },
          "metadata": {
            "needs_background": "light"
          }
        }
      ]
    },
    {
      "cell_type": "markdown",
      "source": [
        "g) Top 10 popular display screen sizes.\n"
      ],
      "metadata": {
        "id": "WBCeT1RUF0mz"
      }
    },
    {
      "cell_type": "code",
      "source": [
        "# Most popular Screen display sizes in inches. \n",
        "plt.figure(figsize=(14,7))\n",
        "laptops_df.groupby('display(in inch)').size().sort_values(ascending = True).head(10).plot(kind = 'barh', color = sns.color_palette(\"muted\"))\n",
        "\n",
        "plt.title(\"Top 10  popular display size of laptop screens\")\n",
        "plt.ylabel(\"Size of display (Inch)\")\n",
        "plt.xlabel(\"No. of laptops.\")\n",
        "plt.show()"
      ],
      "metadata": {
        "colab": {
          "base_uri": "https://localhost:8080/",
          "height": 458
        },
        "id": "ZJXGkhd232Gr",
        "outputId": "ca4c16a3-9a43-49b6-ae11-74abcc5a5509"
      },
      "execution_count": 27,
      "outputs": [
        {
          "output_type": "display_data",
          "data": {
            "text/plain": [
              "<Figure size 1008x504 with 1 Axes>"
            ],
            "image/png": "[encoded data removed]"
          },
          "metadata": {
            "needs_background": "light"
          }
        }
      ]
    },
    {
      "cell_type": "markdown",
      "source": [
        "i) Distribution of ratings"
      ],
      "metadata": {
        "id": "yuf5QyIgF13G"
      }
    },
    {
      "cell_type": "code",
      "source": [
        "# Laptop ratings\n",
        "\n",
        "labels = [4.0, 4.2, 4.3, 4.4, 4.5 ]\n",
        "fig, ax = plt.subplots()\n",
        "ax.pie(laptops_df['rating'].value_counts().head(5), labels = labels, wedgeprops=dict(width=0.5, edgecolor='w'))\n",
        "ax.axis('equal')\n",
        "center_circle = plt.Circle((0,0),0.4,color='white', fc='white',linewidth=0)\n",
        "ax.add_artist(center_circle)\n",
        "\n",
        "plt.title('Distribution of laptop brand ratings')"
      ],
      "metadata": {
        "colab": {
          "base_uri": "https://localhost:8080/",
          "height": 281
        },
        "id": "e_TpAAequYfm",
        "outputId": "9b4aa55e-e5b4-4d7a-b901-bbcb1c823fe0"
      },
      "execution_count": 53,
      "outputs": [
        {
          "output_type": "execute_result",
          "data": {
            "text/plain": [
              "Text(0.5, 1.0, 'Distribution of laptop brand ratings')"
            ]
          },
          "metadata": {},
          "execution_count": 53
        },
        {
          "output_type": "display_data",
          "data": {
            "text/plain": [
              "<Figure size 432x288 with 1 Axes>"
            ],
            "image/png": "[encoded data removed]"
          },
          "metadata": {}
        }
      ]
    },
    {
      "cell_type": "markdown",
      "source": [
        "# **5. Conclusion.**\n",
        "\n",
        "1. Most  of  the laptops cost Rs 5000.\n",
        "2. The most popular laptop brand is the Lenovo core i5 11th Generation.\n",
        "3. The largest number of laptops have a storage capacity of 512GB SSD.\n",
        "4. The largest number of laptops have a 8GB DDR4 RAM.\n",
        "5. The largest number of laptops have an  Intel Core i3 11th Generation processor.\n",
        "6. The most common operating system is the Windows 11.\n",
        "7. The largest number of laptops have a 16.2 inch display screen size.\n",
        "8. Most of the laptops have a rating of 4.0."
      ],
      "metadata": {
        "id": "t_H5gUkwUbCs"
      }
    }
  ]
}
